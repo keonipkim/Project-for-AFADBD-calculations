{
 "cells": [
  {
   "cell_type": "markdown",
   "metadata": {},
   "source": [
    "### Explanation:\n",
    "**`subtract_years_with_breakdown` Function:**\n",
    "- Subtracts a specified number of years from `start_date`.\n",
    "- Handles leap years and adjusts the date if the original date was `February 29`.\n",
    "- Provides a breakdown of the adjustment in **years**, **months**, and **days**.\n",
    "- Adjusts for negative values, ensuring that **months** and **days** are positive.\n",
    "\n",
    "**`subtract_days_from_result` Function:**\n",
    "- Takes the resulting date and subtracts an additional number of days.\n",
    "- Provides a breakdown of the days subtracted into **years**, **months**, and **remaining days** for clarity.\n",
    "\n",
    "**Example Usage:**\n",
    "- Subtract **5 years** from `2021-02-01` and then subtract **60 days** from the resulting date.\n",
    "\n",
    "**Output:**\n",
    "- The resulting date after subtracting the **years**.\n",
    "- The detailed breakdown of the adjustment in **years**, **months**, and **days**.\n",
    "- The final date after subtracting additional days, along with the breakdown of days.\n"
   ]
  },
  {
   "cell_type": "code",
   "execution_count": 6,
   "metadata": {},
   "outputs": [
    {
     "name": "stdout",
     "output_type": "stream",
     "text": [
      "Resulting date after subtracting 5 years is: 2016-02-01\n",
      "Breakdown: {'Years': 5, 'Months': 0, 'Days': 0}\n",
      "Resulting date after subtracting 60 days from 2016-02-01 is: 2015-12-03\n",
      "Breakdown of Days Subtracted: {'Years': 0, 'Months': 2, 'Days': 0}\n"
     ]
    }
   ],
   "source": [
    "from datetime import datetime, timedelta\n",
    "\n",
    "def subtract_years_with_breakdown(start_date, years):\n",
    "    # Convert the start date to a datetime object\n",
    "    start = datetime.strptime(start_date, \"%Y-%m-%d\")\n",
    "    \n",
    "    # Calculate the new year after subtracting the specified number of years\n",
    "    new_year = start.year - years\n",
    "    \n",
    "    # Create a new date with the adjusted year\n",
    "    try:\n",
    "        new_date = datetime(new_year, start.month, start.day)\n",
    "    except ValueError:\n",
    "        # Handle leap year case where the original date is February 29 and the new year is not a leap year\n",
    "        new_date = datetime(new_year, start.month, 28)\n",
    "    \n",
    "    # Calculate the difference in months and days\n",
    "    years_diff = years\n",
    "    months_diff = start.month - new_date.month\n",
    "    days_diff = start.day - new_date.day\n",
    "\n",
    "    # Adjust if the months or days difference is negative\n",
    "    if months_diff < 0:\n",
    "        years_diff -= 1\n",
    "        months_diff += 12\n",
    "    if days_diff < 0:\n",
    "        months_diff -= 1\n",
    "        days_diff += 30  # Approximate month length adjustment\n",
    "\n",
    "    return new_date.strftime(\"%Y-%m-%d\"), {\n",
    "        \"Years\": years_diff,\n",
    "        \"Months\": months_diff,\n",
    "        \"Days\": days_diff\n",
    "    }\n",
    "\n",
    "def subtract_days_from_result(result_date, days):\n",
    "    # Convert the result date to a datetime object\n",
    "    result = datetime.strptime(result_date, \"%Y-%m-%d\")\n",
    "    \n",
    "    # Subtract the specified number of days\n",
    "    new_date = result - timedelta(days=days)\n",
    "    \n",
    "    # Calculate years, months, and days difference from the original result date\n",
    "    years_diff = days // 365\n",
    "    remaining_days = days % 365\n",
    "    months_diff = remaining_days // 30\n",
    "    remaining_days = remaining_days % 30\n",
    "    \n",
    "    return new_date.strftime(\"%Y-%m-%d\"), {\n",
    "        \"Years\": years_diff,\n",
    "        \"Months\": months_diff,\n",
    "        \"Days\": remaining_days\n",
    "    }\n",
    "\n",
    "# Reference start date\n",
    "reference_start_date = \"2021-02-01\"\n",
    "\n",
    "# Step 1: Subtract 5 years from the reference date and get the breakdown\n",
    "years_to_subtract = 5\n",
    "result_date_after_years, breakdown_years = subtract_years_with_breakdown(reference_start_date, years_to_subtract)\n",
    "\n",
    "# Step 2: Subtract additional days (e.g., 60 days) from the resulting date and get the breakdown\n",
    "days_to_subtract = 60\n",
    "final_result_date, breakdown_days = subtract_days_from_result(result_date_after_years, days_to_subtract)\n",
    "\n",
    "# Output the detailed results\n",
    "print(f\"Resulting date after subtracting {years_to_subtract} years is: {result_date_after_years}\")\n",
    "print(f\"Breakdown: {breakdown_years}\")\n",
    "print(f\"Resulting date after subtracting {days_to_subtract} days from {result_date_after_years} is: {final_result_date}\")\n",
    "print(f\"Breakdown of Days Subtracted: {breakdown_days}\")\n"
   ]
  },
  {
   "cell_type": "code",
   "execution_count": null,
   "metadata": {},
   "outputs": [],
   "source": []
  }
 ],
 "metadata": {
  "kernelspec": {
   "display_name": "Python 3",
   "language": "python",
   "name": "python3"
  },
  "language_info": {
   "codemirror_mode": {
    "name": "ipython",
    "version": 3
   },
   "file_extension": ".py",
   "mimetype": "text/x-python",
   "name": "python",
   "nbconvert_exporter": "python",
   "pygments_lexer": "ipython3",
   "version": "3.12.2"
  }
 },
 "nbformat": 4,
 "nbformat_minor": 2
}
