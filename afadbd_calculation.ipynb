{
 "cells": [
  {
   "cell_type": "markdown",
   "metadata": {},
   "source": [
    "### Explanation:\n",
    "**`subtract_years_with_breakdown` Function:**\n",
    "- Subtracts a specified number of years from `start_date`.\n",
    "- Handles leap years and adjusts the date if the original date was `February 29`.\n",
    "- Provides a breakdown of the adjustment in **years**, **months**, and **days**.\n",
    "- Adjusts for negative values, ensuring that **months** and **days** are positive.\n",
    "\n",
    "**`subtract_days_from_result` Function:**\n",
    "- Takes the resulting date and subtracts an additional number of days.\n",
    "- Provides a breakdown of the days subtracted into **years**, **months**, and **remaining days** for clarity.\n",
    "\n",
    "**Example Usage:**\n",
    "- Subtract **5 years** from `2021-02-01` and then subtract **60 days** from the resulting date.\n",
    "\n",
    "**Output:**\n",
    "- The resulting date after subtracting the **years**.\n",
    "- The detailed breakdown of the adjustment in **years**, **months**, and **days**.\n",
    "- The final date after subtracting additional days, along with the breakdown of days.\n"
   ]
  },
  {
   "cell_type": "code",
   "execution_count": 8,
   "metadata": {},
   "outputs": [
    {
     "name": "stdout",
     "output_type": "stream",
     "text": [
      "Resulting date after subtracting 8 years is: 2013-02-01\n",
      "Breakdown: {'Years': 8, 'Months': 0, 'Days': 0}\n",
      "Resulting date after subtracting 60 days from 2013-02-01 is: 2012-12-03\n",
      "Breakdown of Days Subtracted: {'Years': 0, 'Months': 2, 'Days': 0}\n"
     ]
    }
   ],
   "source": [
    "from datetime import datetime, timedelta\n",
    "\n",
    "def subtract_years_with_breakdown(start_date, years):\n",
    "    # Convert the start date to a datetime object\n",
    "    start = datetime.strptime(start_date, \"%Y-%m-%d\")\n",
    "    \n",
    "    # Calculate the new year after subtracting the specified number of years\n",
    "    new_year = start.year - years\n",
    "    \n",
    "    # Create a new date with the adjusted year\n",
    "    try:\n",
    "        new_date = datetime(new_year, start.month, start.day)\n",
    "    except ValueError:\n",
    "        # Handle leap year case where the original date is February 29 and the new year is not a leap year\n",
    "        new_date = datetime(new_year, start.month, 28)\n",
    "    \n",
    "    # Calculate the difference in months and days\n",
    "    years_diff = years\n",
    "    months_diff = start.month - new_date.month\n",
    "    days_diff = start.day - new_date.day\n",
    "\n",
    "    # Adjust if the months or days difference is negative\n",
    "    if months_diff < 0:\n",
    "        years_diff -= 1\n",
    "        months_diff += 12\n",
    "    if days_diff < 0:\n",
    "        months_diff -= 1\n",
    "        days_diff += 30  # Approximate month length adjustment\n",
    "\n",
    "    return new_date.strftime(\"%Y-%m-%d\"), {\n",
    "        \"Years\": years_diff,\n",
    "        \"Months\": months_diff,\n",
    "        \"Days\": days_diff\n",
    "    }\n",
    "\n",
    "def subtract_days_from_result(result_date, days):\n",
    "    # Convert the result date to a datetime object\n",
    "    result = datetime.strptime(result_date, \"%Y-%m-%d\")\n",
    "    \n",
    "    # Subtract the specified number of days\n",
    "    new_date = result - timedelta(days=days)\n",
    "    \n",
    "    # Calculate years, months, and days difference from the original result date\n",
    "    years_diff = days // 365\n",
    "    remaining_days = days % 365\n",
    "    months_diff = remaining_days // 30\n",
    "    remaining_days = remaining_days % 30\n",
    "    \n",
    "    return new_date.strftime(\"%Y-%m-%d\"), {\n",
    "        \"Years\": years_diff,\n",
    "        \"Months\": months_diff,\n",
    "        \"Days\": remaining_days\n",
    "    }\n",
    "\n",
    "# Reference start date\n",
    "reference_start_date = \"2021-02-01\"\n",
    "\n",
    "# Step 1: Subtract 5 years from the reference date and get the breakdown\n",
    "years_to_subtract = 8\n",
    "result_date_after_years, breakdown_years = subtract_years_with_breakdown(reference_start_date, years_to_subtract)\n",
    "\n",
    "# Step 2: Subtract additional days (e.g., 60 days) from the resulting date and get the breakdown\n",
    "days_to_subtract = 60\n",
    "final_result_date, breakdown_days = subtract_days_from_result(result_date_after_years, days_to_subtract)\n",
    "\n",
    "# Output the detailed results\n",
    "print(f\"Resulting date after subtracting {years_to_subtract} years is: {result_date_after_years}\")\n",
    "print(f\"Breakdown: {breakdown_years}\")\n",
    "print(f\"Resulting date after subtracting {days_to_subtract} days from {result_date_after_years} is: {final_result_date}\")\n",
    "print(f\"Breakdown of Days Subtracted: {breakdown_days}\")\n"
   ]
  },
  {
   "cell_type": "markdown",
   "metadata": {},
   "source": [
    "### Dynamic Function for Subtraction\n",
    "\n",
    "Here's the adjusted version that allows for dynamic subtraction of **years**, **months**, and **days**:\n"
   ]
  },
  {
   "cell_type": "code",
   "execution_count": 11,
   "metadata": {},
   "outputs": [
    {
     "name": "stdout",
     "output_type": "stream",
     "text": [
      "Resulting date after subtracting 8 years, 3 months, and 45 days is: 2012-09-17\n",
      "Breakdown: {'Years': 8, 'Months': 4, 'Days': 14}\n"
     ]
    }
   ],
   "source": [
    "from datetime import datetime, timedelta\n",
    "\n",
    "def subtract_time_with_breakdown(start_date, years=0, months=0, days=0):\n",
    "    # Convert the start date to a datetime object\n",
    "    start = datetime.strptime(start_date, \"%Y-%m-%d\")\n",
    "    \n",
    "    # Subtract years by adjusting the year\n",
    "    new_year = start.year - years\n",
    "    \n",
    "    # Adjust the month, considering negative values by rolling over the year\n",
    "    new_month = start.month - months\n",
    "    while new_month <= 0:\n",
    "        new_year -= 1\n",
    "        new_month += 12\n",
    "\n",
    "    # Create a new date with adjusted year and month\n",
    "    try:\n",
    "        new_date = datetime(new_year, new_month, start.day)\n",
    "    except ValueError:\n",
    "        # Handle cases where the day isn't valid in the new month (e.g., February 30)\n",
    "        new_date = datetime(new_year, new_month, 28)\n",
    "\n",
    "    # Subtract the specified number of days\n",
    "    new_date = new_date - timedelta(days=days)\n",
    "\n",
    "    # Calculate the difference between the original date and the new date for the breakdown\n",
    "    years_diff = start.year - new_date.year\n",
    "    months_diff = start.month - new_date.month\n",
    "    days_diff = start.day - new_date.day\n",
    "\n",
    "    # Adjust if the months or days difference is negative\n",
    "    if months_diff < 0:\n",
    "        years_diff -= 1\n",
    "        months_diff += 12\n",
    "    if days_diff < 0:\n",
    "        months_diff -= 1\n",
    "        days_diff += 30  # Approximate month length adjustment\n",
    "\n",
    "    return new_date.strftime(\"%Y-%m-%d\"), {\n",
    "        \"Years\": years_diff,\n",
    "        \"Months\": months_diff,\n",
    "        \"Days\": days_diff\n",
    "    }\n",
    "\n",
    "# Example usage\n",
    "reference_start_date = \"2021-02-01\"\n",
    "\n",
    "# Subtract 8 years, 3 months, and 45 days from the reference date\n",
    "years_to_subtract = 8\n",
    "months_to_subtract = 3\n",
    "days_to_subtract = 45\n",
    "\n",
    "# Get the resulting date and breakdown\n",
    "result_date, breakdown = subtract_time_with_breakdown(\n",
    "    reference_start_date,\n",
    "    years=years_to_subtract,\n",
    "    months=months_to_subtract,\n",
    "    days=days_to_subtract\n",
    ")\n",
    "\n",
    "# Output the detailed results\n",
    "print(f\"Resulting date after subtracting {years_to_subtract} years, {months_to_subtract} months, and {days_to_subtract} days is: {result_date}\")\n",
    "print(f\"Breakdown: {breakdown}\")\n"
   ]
  },
  {
   "cell_type": "markdown",
   "metadata": {},
   "source": [
    "### Explanation:\n",
    "\n",
    "**`subtract_time_with_breakdown` Function:**\n",
    "- Accepts **years**, **months**, and **days** as parameters, making it flexible.\n",
    "- Adjusts the **year** and **month** by handling rollover if the month subtraction results in a negative value.\n",
    "- Uses `timedelta` to subtract **days** from the adjusted date.\n",
    "- Attempts to create a valid date, adjusting for cases like **February 29** in non-leap years.\n",
    "- Provides a breakdown of how many **years**, **months**, and **days** were subtracted.\n",
    "\n",
    "**Example Usage:**\n",
    "- The example subtracts **8 years**, **3 months**, and **45 days** from `2021-02-01`.\n"
   ]
  },
  {
   "cell_type": "code",
   "execution_count": 3,
   "metadata": {},
   "outputs": [
    {
     "data": {
      "application/vnd.jupyter.widget-view+json": {
       "model_id": "760fdaca8d4a4c8197d38c2626d10408",
       "version_major": 2,
       "version_minor": 0
      },
      "text/plain": [
       "Text(value='2021-02-01', description='Reference Start Date (YYYY-MM-DD):')"
      ]
     },
     "metadata": {},
     "output_type": "display_data"
    },
    {
     "data": {
      "application/vnd.jupyter.widget-view+json": {
       "model_id": "95bae6b5273241eea7fc7e99ca4d3d56",
       "version_major": 2,
       "version_minor": 0
      },
      "text/plain": [
       "HTML(value='<b>Period 1</b>')"
      ]
     },
     "metadata": {},
     "output_type": "display_data"
    },
    {
     "data": {
      "application/vnd.jupyter.widget-view+json": {
       "model_id": "8bab492c156f4958a2c128e0a44bae25",
       "version_major": 2,
       "version_minor": 0
      },
      "text/plain": [
       "Text(value='', description='Start Date (YYYY-MM-DD):')"
      ]
     },
     "metadata": {},
     "output_type": "display_data"
    },
    {
     "data": {
      "application/vnd.jupyter.widget-view+json": {
       "model_id": "f23a61aad74e4897a2aaec71e871a2f4",
       "version_major": 2,
       "version_minor": 0
      },
      "text/plain": [
       "Text(value='', description='End Date (YYYY-MM-DD):')"
      ]
     },
     "metadata": {},
     "output_type": "display_data"
    },
    {
     "data": {
      "application/vnd.jupyter.widget-view+json": {
       "model_id": "e7a08b23dee94594875f1e6d2e154a57",
       "version_major": 2,
       "version_minor": 0
      },
      "text/plain": [
       "HTML(value='<b>Period 2</b>')"
      ]
     },
     "metadata": {},
     "output_type": "display_data"
    },
    {
     "data": {
      "application/vnd.jupyter.widget-view+json": {
       "model_id": "b49199244b1b4e6e9fdabbe260d1d2b2",
       "version_major": 2,
       "version_minor": 0
      },
      "text/plain": [
       "Text(value='', description='Start Date (YYYY-MM-DD):')"
      ]
     },
     "metadata": {},
     "output_type": "display_data"
    },
    {
     "data": {
      "application/vnd.jupyter.widget-view+json": {
       "model_id": "1c0e6a3b5ac341a6876893df5b2530f2",
       "version_major": 2,
       "version_minor": 0
      },
      "text/plain": [
       "Text(value='', description='End Date (YYYY-MM-DD):')"
      ]
     },
     "metadata": {},
     "output_type": "display_data"
    },
    {
     "data": {
      "application/vnd.jupyter.widget-view+json": {
       "model_id": "2271a385ea254a1986e9e3a25530fa24",
       "version_major": 2,
       "version_minor": 0
      },
      "text/plain": [
       "HTML(value='<b>Period 3</b>')"
      ]
     },
     "metadata": {},
     "output_type": "display_data"
    },
    {
     "data": {
      "application/vnd.jupyter.widget-view+json": {
       "model_id": "9f6f8a73c79140b69f9bbc0adba5d511",
       "version_major": 2,
       "version_minor": 0
      },
      "text/plain": [
       "Text(value='', description='Start Date (YYYY-MM-DD):')"
      ]
     },
     "metadata": {},
     "output_type": "display_data"
    },
    {
     "data": {
      "application/vnd.jupyter.widget-view+json": {
       "model_id": "3e7c9e9eacfc4bfa87dc5a57a4e7f78f",
       "version_major": 2,
       "version_minor": 0
      },
      "text/plain": [
       "Text(value='', description='End Date (YYYY-MM-DD):')"
      ]
     },
     "metadata": {},
     "output_type": "display_data"
    },
    {
     "data": {
      "application/vnd.jupyter.widget-view+json": {
       "model_id": "a2323b298381447a89b28750a9ce4756",
       "version_major": 2,
       "version_minor": 0
      },
      "text/plain": [
       "HTML(value='<b>Period 4</b>')"
      ]
     },
     "metadata": {},
     "output_type": "display_data"
    },
    {
     "data": {
      "application/vnd.jupyter.widget-view+json": {
       "model_id": "3d6d6b7168c24970b62e1264e2c2001e",
       "version_major": 2,
       "version_minor": 0
      },
      "text/plain": [
       "Text(value='', description='Start Date (YYYY-MM-DD):')"
      ]
     },
     "metadata": {},
     "output_type": "display_data"
    },
    {
     "data": {
      "application/vnd.jupyter.widget-view+json": {
       "model_id": "f09b30e0e784486e81a0ac0f3c976584",
       "version_major": 2,
       "version_minor": 0
      },
      "text/plain": [
       "Text(value='', description='End Date (YYYY-MM-DD):')"
      ]
     },
     "metadata": {},
     "output_type": "display_data"
    },
    {
     "data": {
      "application/vnd.jupyter.widget-view+json": {
       "model_id": "e7622e25a23b4b61bad7204fb1a81157",
       "version_major": 2,
       "version_minor": 0
      },
      "text/plain": [
       "HTML(value='<b>Period 5</b>')"
      ]
     },
     "metadata": {},
     "output_type": "display_data"
    },
    {
     "data": {
      "application/vnd.jupyter.widget-view+json": {
       "model_id": "9169e70cdb59466f8d1cee37264c3397",
       "version_major": 2,
       "version_minor": 0
      },
      "text/plain": [
       "Text(value='', description='Start Date (YYYY-MM-DD):')"
      ]
     },
     "metadata": {},
     "output_type": "display_data"
    },
    {
     "data": {
      "application/vnd.jupyter.widget-view+json": {
       "model_id": "7d27fac3a5c04c34862d8d31e9e9985a",
       "version_major": 2,
       "version_minor": 0
      },
      "text/plain": [
       "Text(value='', description='End Date (YYYY-MM-DD):')"
      ]
     },
     "metadata": {},
     "output_type": "display_data"
    },
    {
     "data": {
      "application/vnd.jupyter.widget-view+json": {
       "model_id": "067d37e903f14ab4bed0cb75e69cf815",
       "version_major": 2,
       "version_minor": 0
      },
      "text/plain": [
       "Button(description='Calculate', style=ButtonStyle())"
      ]
     },
     "metadata": {},
     "output_type": "display_data"
    },
    {
     "name": "stdout",
     "output_type": "stream",
     "text": [
      "Total adjustment: 5 years, 0 months, 0 days.\n",
      "Resulting date after adjustment from 2021-02-01 is: 2016-02-01\n",
      "\n",
      "Breakdown by Periods:\n",
      "Period 1: 2008-08-04 to 2013-08-03 = 4 years, 11 months, 30 days (1826 days total).\n"
     ]
    }
   ],
   "source": [
    "from datetime import datetime\n",
    "from dateutil.relativedelta import relativedelta\n",
    "import ipywidgets as widgets\n",
    "from IPython.display import display\n",
    "\n",
    "# Function to calculate the difference in days between two dates\n",
    "def calculate_years_months_days(start_date, end_date):\n",
    "    start = datetime.strptime(start_date, \"%Y-%m-%d\")\n",
    "    end = datetime.strptime(end_date, \"%Y-%m-%d\")\n",
    "    delta = relativedelta(end, start)\n",
    "    \n",
    "    # Calculate total days for the difference, adjusting for leap years automatically\n",
    "    total_days = (end - start).days + 1  # +1 to include both start and end dates\n",
    "    \n",
    "    return delta.years, delta.months, delta.days, total_days\n",
    "\n",
    "# Create a widget for the reference start date\n",
    "reference_date_widget = widgets.Text(\n",
    "    value='2021-02-01',\n",
    "    description='Reference Start Date (YYYY-MM-DD):',\n",
    "    disabled=False\n",
    ")\n",
    "\n",
    "# Create widgets for up to 5 periods with start and end date fields\n",
    "periods = []\n",
    "for i in range(1, 6):\n",
    "    period_label = widgets.HTML(value=f\"<b>Period {i}</b>\")\n",
    "    start_date_widget = widgets.Text(value='', description='Start Date (YYYY-MM-DD):', disabled=False)\n",
    "    end_date_widget = widgets.Text(value='', description='End Date (YYYY-MM-DD):', disabled=False)\n",
    "    periods.append((period_label, start_date_widget, end_date_widget))\n",
    "\n",
    "# Button to calculate results\n",
    "button = widgets.Button(description=\"Calculate\")\n",
    "\n",
    "# Function to handle button click\n",
    "def on_button_click(b):\n",
    "    reference_date = reference_date_widget.value\n",
    "    total_days = 0\n",
    "    total_years = 0\n",
    "    total_months = 0\n",
    "    total_remaining_days = 0\n",
    "    breakdowns = []\n",
    "    \n",
    "    # Calculate years, months, and days for each period and sum them up\n",
    "    for i, (label, start_date_widget, end_date_widget) in enumerate(periods):\n",
    "        start_date = start_date_widget.value\n",
    "        end_date = end_date_widget.value\n",
    "        \n",
    "        # Skip empty fields\n",
    "        if not start_date or not end_date:\n",
    "            continue\n",
    "        \n",
    "        try:\n",
    "            years, months, days, days_between = calculate_years_months_days(start_date, end_date)\n",
    "        except ValueError:\n",
    "            print(f\"Invalid date format for Period {i+1}. Please use YYYY-MM-DD format.\")\n",
    "            return\n",
    "        \n",
    "        breakdowns.append(\n",
    "            f\"Period {i+1}: {start_date} to {end_date} = {years} years, {months} months, {days} days ({days_between} days total).\"\n",
    "        )\n",
    "        total_years += years\n",
    "        total_months += months\n",
    "        total_remaining_days += days\n",
    "        total_days += days_between\n",
    "    \n",
    "    # Normalize months and days if total months exceed 12 or days exceed 30\n",
    "    total_months += total_remaining_days // 30\n",
    "    total_remaining_days %= 30\n",
    "    total_years += total_months // 12\n",
    "    total_months %= 12\n",
    "\n",
    "    # Subtract the total years, months, and days from the reference date\n",
    "    try:\n",
    "        result_date = datetime.strptime(reference_date, \"%Y-%m-%d\") - relativedelta(\n",
    "            years=total_years, months=total_months, days=total_remaining_days\n",
    "        )\n",
    "        result_date_str = result_date.strftime(\"%Y-%m-%d\")\n",
    "        print(f\"Total adjustment: {total_years} years, {total_months} months, {total_remaining_days} days.\")\n",
    "        print(f\"Resulting date after adjustment from {reference_date} is: {result_date_str}\")\n",
    "        print(\"\\nBreakdown by Periods:\")\n",
    "        for breakdown in breakdowns:\n",
    "            print(breakdown)\n",
    "    except ValueError:\n",
    "        print(\"Invalid reference start date format. Please use YYYY-MM-DD format.\")\n",
    "\n",
    "# Link the button to the calculation function\n",
    "button.on_click(on_button_click)\n",
    "\n",
    "# Display the widgets\n",
    "display(reference_date_widget)\n",
    "for widgets_set in periods:\n",
    "    display(*widgets_set)\n",
    "display(button)\n"
   ]
  },
  {
   "cell_type": "markdown",
   "metadata": {},
   "source": [
    "### Explanation of the Changes:\n",
    "\n",
    "**Using `relativedelta`:**\n",
    "- `relativedelta` from `dateutil` is used for accurately calculating the difference between two dates in **years**, **months**, and **days**.\n",
    "- `relativedelta` accounts for variations in month lengths and leap years automatically.\n",
    "\n",
    "**`calculate_years_months_days` Function:**\n",
    "- Calculates the difference in **years**, **months**, **days**, and **total days** between two dates.\n",
    "- Returns a tuple of `(years, months, days, total_days)`.\n",
    "\n",
    "**Adjustment of Periods:**\n",
    "- Adjusts the total **years**, **months**, and **days** across all periods and normalizes them.\n",
    "- Ensures that **months** do not exceed **12** and **days** do not exceed **30** for simplicity.\n",
    "\n",
    "**Subtracting Time:**\n",
    "- Uses `relativedelta` to subtract the total **years**, **months**, and **days** from the **reference start date**.\n",
    "\n",
    "**Output:**\n",
    "- Displays the breakdown of each period's contribution to the total adjustment.\n",
    "- Shows the resulting date after applying the adjustments.\n",
    "\n",
    "**Example:**\n",
    "- If you enter **Period 1** with **2008-08-04** as the start date and **2013-08-03** as the end date, the function will:\n",
    "  - Calculate the difference as **5 years, 0 months, and 0 days**.\n",
    "  - Convert that into a total adjustment of **1,826 days**.\n",
    "  - Adjust the reference start date **2021-02-01** accordingly.\n",
    "\n",
    "**Benefits:**\n",
    "- This approach ensures precise adjustments based on **calendar years**.\n",
    "- Automatically accounts for variations in **month lengths** and **leap years**.\n",
    "- More accurate for scenarios where the date ranges cross **leap years** or **months** of different lengths.\n"
   ]
  },
  {
   "cell_type": "markdown",
   "metadata": {},
   "source": []
  }
 ],
 "metadata": {
  "kernelspec": {
   "display_name": "Python 3",
   "language": "python",
   "name": "python3"
  },
  "language_info": {
   "codemirror_mode": {
    "name": "ipython",
    "version": 3
   },
   "file_extension": ".py",
   "mimetype": "text/x-python",
   "name": "python",
   "nbconvert_exporter": "python",
   "pygments_lexer": "ipython3",
   "version": "3.12.2"
  }
 },
 "nbformat": 4,
 "nbformat_minor": 2
}
